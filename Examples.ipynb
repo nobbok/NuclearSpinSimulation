{
 "cells": [
  {
   "cell_type": "markdown",
   "metadata": {},
   "source": [
    "Monte-Carlo simulation and analytic model of nuclear spin dephasing with variable sequence length.\n",
    "\n",
    "This simulation suite builds on the results of Blok et al., Farad. Discuss. 184, 173 (2015).\n",
    "\n",
    "Can handle the following experimental imperfections:\n",
    "    - MW pulse errors\n",
    "    - NV initialization infidelity with equal distribution to ms = -1 and ms = +1\n",
    "    - Exponentially distributed repumping if the NV is in -1/+1 (similar to Blok et al.)\n",
    "    - Gaussian quasi-static distribution of the average NV repumping time\n",
    "    \n",
    "This work has partly been published in N. Kalb et al., PRA 97, 062230 (2018)."
   ]
  },
  {
   "cell_type": "code",
   "execution_count": 8,
   "metadata": {},
   "outputs": [],
   "source": [
    "import numpy as np\n",
    "from matplotlib import pyplot as plt\n",
    "import QMC_simulation as QMC\n",
    "import analytic_model as analytic\n",
    "%matplotlib inline"
   ]
  },
  {
   "cell_type": "markdown",
   "metadata": {},
   "source": [
    "## Analytic simulation for pure repumping noise"
   ]
  },
  {
   "cell_type": "markdown",
   "metadata": {},
   "source": [
    "We find the numerical coefficient for decay(p_\\ket{1} = 0.5) / decay(p_\\ket{1} = 1.0) to be approx. 2.\n",
    "See main publication, section VI, Paragraph 5."
   ]
  },
  {
   "cell_type": "code",
   "execution_count": 9,
   "metadata": {
    "scrolled": true
   },
   "outputs": [
    {
     "data": {
      "image/png": "[encoded data removed]",
      "text/plain": [
       "<Figure size 360x216 with 1 Axes>"
      ]
     },
     "metadata": {},
     "output_type": "display_data"
    },
    {
     "name": "stdout",
     "output_type": "stream",
     "text": [
      "Relative performance for f(p = 0.5) / f(p = 1.0) over relevant parameter range: 2.0009\n"
     ]
    }
   ],
   "source": [
    "#params\n",
    "repump_times = np.linspace(80., 150., 100) * 1e-9#in s\n",
    "\n",
    "## init simulations:\n",
    "params = {'average_repump_time': repump_times, 'pflip': 0.5}\n",
    "ana05 = analytic.Faraday(params = params)\n",
    "params.update({'pflip': 1.0})\n",
    "ana10 = analytic.Faraday(params = params)\n",
    "\n",
    "#calc results\n",
    "y05 = ana05.faraday_decay_constant()\n",
    "y10 = ana10.faraday_decay_constant()\n",
    "\n",
    "## prep labels\n",
    "str05 = r'$p_{|1\\rangle}$' + ' = {:0.1f}'.format(0.5)\n",
    "str1 = r'$p_{|1\\rangle}$' + ' = {:0.1f}'.format(1.0)\n",
    "\n",
    "# display\n",
    "fig = plt.figure(figsize = (5,3))\n",
    "plt.plot(repump_times * 1e9, y05, '.', label = str05)\n",
    "plt.plot(repump_times * 1e9, y10, '.', label = str1)\n",
    "plt.legend()\n",
    "plt.xlabel('Average repump time (ns)')\n",
    "plt.ylabel(r'$\\mathrm{N_{1/e}}$')\n",
    "plt.show()\n",
    "\n",
    "# Determine benchmark number\n",
    "ans = np.average(y05 / y10)\n",
    "print('Relative performance for f(p = 0.5) / f(p = 1.0) over relevant parameter range: {:.4f}'.format(ans))"
   ]
  },
  {
   "cell_type": "markdown",
   "metadata": {},
   "source": [
    "## Comparison: MC simulation vs. analytic result"
   ]
  },
  {
   "cell_type": "markdown",
   "metadata": {},
   "source": [
    "Run MC simulation without additional sources of error.\n",
    "Should be consistent with analytic model. "
   ]
  },
  {
   "cell_type": "code",
   "execution_count": 10,
   "metadata": {},
   "outputs": [],
   "source": [
    "params = {\n",
    "    'mw_infidelity': 0.0,\n",
    "    'init_infidelity': 0.0,\n",
    "}\n",
    "\n",
    "mc_sim = QMC.QMC(params = params)\n",
    "mc_sim.compute_fidelity_from_scratch()\n",
    "\n",
    "x = np.arange(0,mc_sim.get_param('entangling_attempts'))\n",
    "params.update({'entangling_attempts' : x})\n",
    "analytic_sim = analytic.Faraday(params = params)\n",
    "analytic_sim.get_carbon_state_fidelity()"
   ]
  },
  {
   "cell_type": "code",
   "execution_count": 11,
   "metadata": {},
   "outputs": [
    {
     "data": {
      "image/png": "[encoded data removed]",
      "text/plain": [
       "<Figure size 432x288 with 1 Axes>"
      ]
     },
     "metadata": {},
     "output_type": "display_data"
    }
   ],
   "source": [
    "plt.plot(x, analytic_sim.cspin_fidelity, label = 'analytic')\n",
    "plt.plot(np.array(x),mc_sim.cspin_fidelity, label = 'MC sim')\n",
    "plt.legend()\n",
    "plt.xlabel('Entangling attempts')\n",
    "plt.ylabel('State fidelity')\n",
    "plt.show()"
   ]
  },
  {
   "cell_type": "markdown",
   "metadata": {},
   "source": [
    "## Fig. 5b: 2D sweep MW infidelity vs. repumping infidelity"
   ]
  },
  {
   "cell_type": "code",
   "execution_count": 5,
   "metadata": {},
   "outputs": [],
   "source": [
    "#settings\n",
    "params = {\n",
    "    'coupling'            : 26e3, \n",
    "    \n",
    "    # nv params\n",
    "    'average_repump_time' : 100e-9,\n",
    "    'repump_time_jitter'  : 0.0,    \n",
    "    'repump_time_offset'  : 0.0,  \n",
    "    'do_carbon_pi'        : False,\n",
    "    'pflip'               : 0.5,\n",
    "    \n",
    "    # sim/sequence params\n",
    "    'entangling_attempts' : 20000,\n",
    "    'repetitions'         : 600,\n",
    "    'T'                   : 100e-9,\n",
    "    'larmor_period'       : 2.256e-6,\n",
    "    'larmor_order'        : 1,\n",
    "}"
   ]
  },
  {
   "cell_type": "code",
   "execution_count": 6,
   "metadata": {},
   "outputs": [],
   "source": [
    "#sweep range\n",
    "mw_infids = np.logspace(-5,-2,num=15) \n",
    "init_infids = np.logspace(-5,-2,num=12) \n",
    "res_low_mag = np.zeros((len(mw_infids),len(init_infids)))\n",
    "res_high_mag = np.zeros((len(mw_infids),len(init_infids)))\n",
    "\n",
    "\n",
    "mc_sim = QMC.QMC(params = params)\n",
    "# Executing this piece of code takes quite some time.\n",
    "if False:\n",
    "    print 'progress: ',\n",
    "    \n",
    "    for ii,mw in enumerate(mw_infids):\n",
    "        mc_sim.set_param('mw_infidelity', mw)\n",
    "        for jj,init in enumerate(init_infids):\n",
    "            mc_sim.set_param('init_infidelity', init)\n",
    "            \n",
    "            # low magnetic field\n",
    "            mc_sim.set_param('larmor_period', 2.256e-6) # magnetic field: B = 414 G\n",
    "            mc_sim.compute_fidelity_from_scratch()\n",
    "            decay_const = mc_sim.find_attempts_from_fidelity(0.5 + 0.5 / np.exp(1)) \n",
    "            res_low_mag[ii,jj] = decay_const\n",
    "            \n",
    "            \n",
    "            # high magnetic field\n",
    "            mc_sim.set_param('larmor_period', 0.2256e-6) # magnetic field: B = 4140 G\n",
    "            mc_sim.compute_fidelity_from_scratch()\n",
    "            decay_const = mc_sim.find_attempts_from_fidelity(0.5 + 0.5 / np.exp(1)) \n",
    "            res_high_mag[ii,jj] = decay_const\n",
    "        print '{}/{} '.format(ii + 1, len(mw_infids)),"
   ]
  },
  {
   "cell_type": "code",
   "execution_count": 2,
   "metadata": {},
   "outputs": [],
   "source": [
    "import pickle\n",
    "### save new MC results\n",
    "if False:\n",
    "    filename = 'myFileName.p'\n",
    "    pickle_dict = {}\n",
    "    pickle_dict['res_low_mag']  = res_low_mag\n",
    "    pickle_dict['res_high_mag'] = res_high_mag\n",
    "    pickle_dict['mw_infids']    = mw_infids\n",
    "    pickle_dict['init_infids']  = init_infids\n",
    "    fileOut = open(filename, \"wb\")\n",
    "    pickle.dump(pickle_dict, fileOut)\n",
    "    fileOut.close()\n",
    "    \n",
    "### load previous MC results\n",
    "if True:\n",
    "    filename = 'MC_2D_data.p'\n",
    "    pickle_dict = pickle.load(open(r\"MC_2D_data.p\", \"rb\" ))\n",
    "    res_low_mag = pickle_dict['res_low_mag']\n",
    "    res_high_mag = pickle_dict['res_high_mag'] \n",
    "    mw_infids = pickle_dict['mw_infids']\n",
    "    init_infids = pickle_dict['init_infids']"
   ]
  },
  {
   "cell_type": "code",
   "execution_count": 7,
   "metadata": {},
   "outputs": [
    {
     "data": {
      "image/png": "[encoded data removed]",
      "text/plain": [
       "<Figure size 288x115.2 with 3 Axes>"
      ]
     },
     "metadata": {},
     "output_type": "display_data"
    }
   ],
   "source": [
    "# ticks should not overlap with data for this plot\n",
    "from matplotlib import colors\n",
    "\n",
    "X,Y = np.meshgrid(init_infids, mw_infids)\n",
    "\n",
    "fig,axs = plt.subplots(1, 2, sharey = True,\n",
    "                       figsize = (4, 1.6)) #size according to journal guidelines PRA\n",
    "\n",
    "for ii,r in enumerate([res_low_mag,res_high_mag]):\n",
    "    plt.sca(axs[ii])\n",
    "    pcm = plt.pcolormesh(X,Y,r,\n",
    "                       cmap = mpl.cm.viridis,\n",
    "                       norm = colors.PowerNorm(gamma = 1. / 2.),\n",
    "                       vmin = 100)\n",
    "    \n",
    "    #subplt formatting\n",
    "    plt.xscale(\"log\", nonposx = 'clip')\n",
    "    plt.yscale(\"log\", nonposy = 'clip')\n",
    "    plt.xticks([1e-3, 1e-4, 1e-5])\n",
    "    plt.yticks([1e-2, 1e-3, 1e-4, 1e-5])\n",
    "    plt.xlabel(r'$\\mathrm{p_{init}}$')\n",
    "    plt.title('B = 414'+ ii*'0' + ' G')\n",
    "    plt.minorticks_off()\n",
    "    \n",
    "    if not ii:\n",
    "        plt.ylabel(r'$\\mathrm{p_{MW}}$')\n",
    "\n",
    "# final formatting: color bar and subplot spacing.\n",
    "ticks = [100, 1000, 3000, 6000, 10000, 15000]\n",
    "fig.subplots_adjust(wspace = 0.07,right = 0.8)\n",
    "cbar_ax = fig.add_axes([0.82, 0.15, 0.05, 0.7])\n",
    "fig.colorbar(pcm, cax = cbar_ax, orientation = 'vertical',\n",
    "             label = r'$\\mathrm{N_{1/e}}$', ticks = ticks)\n",
    "plt.show()"
   ]
  }
 ],
 "metadata": {
  "kernelspec": {
   "display_name": "Python 2",
   "language": "python",
   "name": "python2"
  },
  "language_info": {
   "codemirror_mode": {
    "name": "ipython",
    "version": 2
   },
   "file_extension": ".py",
   "mimetype": "text/x-python",
   "name": "python",
   "nbconvert_exporter": "python",
   "pygments_lexer": "ipython2",
   "version": "2.7.15"
  }
 },
 "nbformat": 4,
 "nbformat_minor": 1
}
